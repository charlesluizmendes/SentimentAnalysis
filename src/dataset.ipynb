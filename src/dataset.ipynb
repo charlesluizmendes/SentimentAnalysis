{
 "cells": [
  {
   "cell_type": "code",
   "execution_count": null,
   "id": "95f13811",
   "metadata": {},
   "outputs": [],
   "source": [
    "import os\n",
    "from dotenv import load_dotenv\n",
    "\n",
    "# Load environment variables\n",
    "load_dotenv()\n",
    "\n",
    "# Access dataset variables\n",
    "dataset_path = os.getenv(\"DATASET_PATH\")\n",
    "dataset_train_path = os.getenv(\"DATASET_TRAIN_PATH\")\n",
    "dataset_test_path = os.getenv(\"DATASET_TEST_PATH\")\n",
    "dataset_unsupervised_path = os.getenv(\"DATASET_UNSUPERVISED_PATH\")"
   ]
  },
  {
   "cell_type": "code",
   "execution_count": null,
   "id": "2d4c93b5",
   "metadata": {},
   "outputs": [],
   "source": [
    "from datasets import load_dataset\n",
    "\n",
    "# Load IMDb dataset\n",
    "dataset = load_dataset('imdb')\n",
    "print(dataset)"
   ]
  },
  {
   "cell_type": "code",
   "execution_count": null,
   "id": "a239e7ac",
   "metadata": {},
   "outputs": [],
   "source": [
    "import os\n",
    "\n",
    "# Create directory dataset\n",
    "os.makedirs(dataset_path, exist_ok=True)"
   ]
  },
  {
   "cell_type": "code",
   "execution_count": null,
   "id": "0596d273",
   "metadata": {},
   "outputs": [],
   "source": [
    "# Save IMDb dataset\n",
    "dataset['train'].to_json(dataset_train_path, orient='records', lines=True)\n",
    "dataset['test'].to_json(dataset_test_path, orient='records', lines=True)\n",
    "dataset['unsupervised'].to_json(dataset_unsupervised_path, orient='records', lines=True)"
   ]
  }
 ],
 "metadata": {
  "kernelspec": {
   "display_name": "venv",
   "language": "python",
   "name": "python3"
  },
  "language_info": {
   "codemirror_mode": {
    "name": "ipython",
    "version": 3
   },
   "file_extension": ".py",
   "mimetype": "text/x-python",
   "name": "python",
   "nbconvert_exporter": "python",
   "pygments_lexer": "ipython3",
   "version": "3.10.11"
  }
 },
 "nbformat": 4,
 "nbformat_minor": 5
}
