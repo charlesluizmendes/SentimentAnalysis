{
 "cells": [
  {
   "cell_type": "code",
   "execution_count": 14,
   "id": "95f13811",
   "metadata": {},
   "outputs": [],
   "source": [
    "# Define variables dataset\n",
    "dataset_path = \"../dataset\"\n",
    "dataset_train_path = \"../dataset/imdb_train.json\"\n",
    "dataset_test_path = \"../dataset/imdb_test.json\"\n",
    "dataset_unsupervised_path = \"../dataset/imdb_unsupervised.json\""
   ]
  },
  {
   "cell_type": "code",
   "execution_count": 15,
   "id": "2d4c93b5",
   "metadata": {},
   "outputs": [
    {
     "name": "stdout",
     "output_type": "stream",
     "text": [
      "DatasetDict({\n",
      "    train: Dataset({\n",
      "        features: ['text', 'label'],\n",
      "        num_rows: 25000\n",
      "    })\n",
      "    test: Dataset({\n",
      "        features: ['text', 'label'],\n",
      "        num_rows: 25000\n",
      "    })\n",
      "    unsupervised: Dataset({\n",
      "        features: ['text', 'label'],\n",
      "        num_rows: 50000\n",
      "    })\n",
      "})\n"
     ]
    }
   ],
   "source": [
    "from datasets import load_dataset\n",
    "\n",
    "# Load IMDb dataset\n",
    "dataset = load_dataset('imdb')\n",
    "print(dataset)"
   ]
  },
  {
   "cell_type": "code",
   "execution_count": 16,
   "id": "a239e7ac",
   "metadata": {},
   "outputs": [],
   "source": [
    "import os\n",
    "\n",
    "# Create directory dataset\n",
    "os.makedirs(dataset_path, exist_ok=True)"
   ]
  },
  {
   "cell_type": "code",
   "execution_count": 17,
   "id": "0596d273",
   "metadata": {},
   "outputs": [
    {
     "name": "stderr",
     "output_type": "stream",
     "text": [
      "Creating json from Arrow format: 100%|██████████| 25/25 [00:00<00:00, 97.25ba/s]\n",
      "Creating json from Arrow format: 100%|██████████| 25/25 [00:00<00:00, 98.67ba/s]\n",
      "Creating json from Arrow format: 100%|██████████| 50/50 [00:00<00:00, 94.00ba/s]\n"
     ]
    },
    {
     "data": {
      "text/plain": [
       "68056298"
      ]
     },
     "execution_count": 17,
     "metadata": {},
     "output_type": "execute_result"
    }
   ],
   "source": [
    "# Save IMDb dataset\n",
    "dataset['train'].to_json(dataset_train_path, orient='records', lines=True)\n",
    "dataset['test'].to_json(dataset_test_path, orient='records', lines=True)\n",
    "dataset['unsupervised'].to_json(dataset_unsupervised_path, orient='records', lines=True)"
   ]
  }
 ],
 "metadata": {
  "kernelspec": {
   "display_name": "venv",
   "language": "python",
   "name": "python3"
  },
  "language_info": {
   "codemirror_mode": {
    "name": "ipython",
    "version": 3
   },
   "file_extension": ".py",
   "mimetype": "text/x-python",
   "name": "python",
   "nbconvert_exporter": "python",
   "pygments_lexer": "ipython3",
   "version": "3.10.11"
  }
 },
 "nbformat": 4,
 "nbformat_minor": 5
}
